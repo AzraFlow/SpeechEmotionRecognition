{
 "cells": [
  {
   "cell_type": "code",
   "execution_count": 88,
   "metadata": {},
   "outputs": [],
   "source": [
    "import librosa\n",
    "import soundfile\n",
    "import os\n",
    "import glob\n",
    "import pickle\n",
    "import numpy as np\n",
    "from sklearn.model_selection import train_test_split\n",
    "from sklearn.neural_network import MLPClassifier\n",
    "from sklearn.metrics import accuracy_score"
   ]
  },
  {
   "cell_type": "code",
   "execution_count": 89,
   "metadata": {},
   "outputs": [],
   "source": [
    "#DataFlair - Extract features (mfcc, chroma, mel) from a sound file\n",
    "\n",
    "def extract_feature(file_name, mfcc, chroma, mel):\n",
    "    with soundfile.SoundFile(file_name) as sound_file:\n",
    "        X = sound_file.read(dtype=\"float32\")\n",
    "        sample_rate = sound_file.samplerate\n",
    "        if chroma:\n",
    "            stft = np.abs(librosa.stft(X))\n",
    "        result = np.array([])\n",
    "        if mfcc:\n",
    "            mfccs = np.mean(librosa.feature.mfcc(y=X, sr=sample_rate, n_mfcc=40).T, axis=0)\n",
    "            result = np.hstack((result, chroma))\n",
    "        if chroma:\n",
    "            chroma = np.mean(librosa.feature.chroma_stft(S=stft, sr=sample_rate).T, axis=0)\n",
    "            result = np.hstack((result, chroma))\n",
    "        if mel:\n",
    "            mel = np.mean(librosa.feature.melspectrogram(X, sr=sample_rate).T, axis=0)\n",
    "            result = np.hstack((result, mel))\n",
    "    return result"
   ]
  },
  {
   "cell_type": "code",
   "execution_count": 90,
   "metadata": {},
   "outputs": [],
   "source": [
    "# DataFlair - Emotions in the RAVDESS dataset\n",
    "emotions = {\n",
    "    '01': 'neutral',\n",
    "    '02': 'calm',\n",
    "    '03': 'happy',\n",
    "    '04': 'sad',\n",
    "    '05': 'angry',\n",
    "    '06': 'fearful',\n",
    "    '07': 'disgust',\n",
    "    '08': 'surprised'\n",
    "}\n",
    "\n",
    "#DataFlair - Emotions to observe\n",
    "observed_emotions = ['calm', 'happy', 'fearful', 'disgust', 'angry']"
   ]
  },
  {
   "cell_type": "code",
   "execution_count": 91,
   "metadata": {},
   "outputs": [],
   "source": [
    "# DataFlair - Load the data and extract features for each sound file\n",
    "def load_data(test_size=0.2):\n",
    "    x, y = [], []\n",
    "    for file in glob.glob('./ravdess_data/Actor_*/*.wav'):\n",
    "\n",
    "        file_name = os.path.basename(file)\n",
    "        emotion = emotions[file_name.split(\"-\")[2]]\n",
    "        if emotion not in observed_emotions:\n",
    "            continue\n",
    "        feature = extract_feature(file, mfcc=True, chroma=True, mel=True)\n",
    "        x.append(feature)\n",
    "        y.append(emotion)\n",
    "    return train_test_split(np.array(x), y, test_size=test_size, random_state=9)"
   ]
  },
  {
   "cell_type": "code",
   "execution_count": 92,
   "metadata": {},
   "outputs": [],
   "source": [
    "# DataFlair - Split the dataset\n",
    "x_train, x_test, y_train, y_test = load_data(test_size=0.25)"
   ]
  },
  {
   "cell_type": "code",
   "execution_count": 80,
   "metadata": {},
   "outputs": [
    {
     "name": "stdout",
     "output_type": "stream",
     "text": [
      "(624, 336)\n"
     ]
    }
   ],
   "source": [
    "# DataFlair - Get the shape of the training and testing datasets\n",
    "print((x_train.shape[0], x_test.shape[0]))"
   ]
  },
  {
   "cell_type": "code",
   "execution_count": 81,
   "metadata": {},
   "outputs": [
    {
     "name": "stdout",
     "output_type": "stream",
     "text": [
      "Features extracted: 141\n"
     ]
    }
   ],
   "source": [
    "# DataFlair - Get the number of features extracted\n",
    "print(f'Features extracted: {x_train.shape[1]}')"
   ]
  },
  {
   "cell_type": "code",
   "execution_count": 82,
   "metadata": {},
   "outputs": [],
   "source": [
    "# DataFlair - Initialize the Multi Layer Perceptron Classifier\n",
    "model = MLPClassifier(alpha=0.01, batch_size=256, epsilon=1e-08, hidden_layer_sizes=(300,), learning_rate='adaptive', max_iter=1000)"
   ]
  },
  {
   "cell_type": "code",
   "execution_count": 83,
   "metadata": {},
   "outputs": [
    {
     "data": {
      "text/plain": [
       "MLPClassifier(alpha=0.01, batch_size=256, hidden_layer_sizes=(300,),\n",
       "              learning_rate='adaptive', max_iter=1000)"
      ]
     },
     "execution_count": 83,
     "metadata": {},
     "output_type": "execute_result"
    }
   ],
   "source": [
    "# DataFlair - Train the model\n",
    "model.fit(x_train, y_train)"
   ]
  },
  {
   "cell_type": "code",
   "execution_count": 87,
   "metadata": {},
   "outputs": [
    {
     "name": "stdout",
     "output_type": "stream",
     "text": [
      "[[1.00000000e+00 5.98885536e-01 6.68151736e-01 ... 9.17843194e-04\n",
      "  5.20892907e-04 4.23721154e-04]\n",
      " [1.00000000e+00 5.64036846e-01 5.23739696e-01 ... 5.45278145e-03\n",
      "  3.56062246e-03 2.32826290e-03]\n",
      " [1.00000000e+00 4.38117981e-01 3.32518280e-01 ... 3.65081453e-03\n",
      "  1.93907868e-03 1.06057874e-03]\n",
      " ...\n",
      " [1.00000000e+00 5.95862925e-01 6.31316304e-01 ... 5.45494504e-06\n",
      "  4.09651238e-06 1.95349662e-06]\n",
      " [1.00000000e+00 6.09680712e-01 6.27815664e-01 ... 6.37499352e-06\n",
      "  4.62216485e-06 3.34434867e-06]\n",
      " [1.00000000e+00 5.18337131e-01 5.81094146e-01 ... 4.67928359e-03\n",
      "  2.99159461e-03 1.92126387e-03]]\n",
      "['disgust' 'angry' 'happy' 'fearful' 'disgust' 'calm' 'disgust' 'angry'\n",
      " 'fearful' 'disgust' 'disgust' 'happy' 'disgust' 'angry' 'disgust' 'happy'\n",
      " 'happy' 'disgust' 'happy' 'calm' 'calm' 'disgust' 'happy' 'disgust'\n",
      " 'happy' 'happy' 'calm' 'fearful' 'calm' 'angry' 'fearful' 'disgust'\n",
      " 'angry' 'angry' 'fearful' 'disgust' 'disgust' 'fearful' 'happy' 'disgust'\n",
      " 'fearful' 'calm' 'angry' 'fearful' 'disgust' 'disgust' 'happy' 'calm'\n",
      " 'angry' 'fearful' 'happy' 'fearful' 'calm' 'happy' 'disgust' 'calm'\n",
      " 'fearful' 'calm' 'angry' 'fearful' 'angry' 'fearful' 'disgust' 'calm'\n",
      " 'angry' 'disgust' 'disgust' 'calm' 'angry' 'happy' 'angry' 'fearful'\n",
      " 'happy' 'angry' 'fearful' 'fearful' 'calm' 'disgust' 'fearful' 'calm'\n",
      " 'calm' 'calm' 'fearful' 'fearful' 'happy' 'disgust' 'happy' 'fearful'\n",
      " 'disgust' 'angry' 'disgust' 'disgust' 'disgust' 'disgust' 'fearful'\n",
      " 'fearful' 'happy' 'calm' 'angry' 'fearful' 'calm' 'angry' 'disgust'\n",
      " 'disgust' 'angry' 'calm' 'angry' 'calm' 'happy' 'disgust' 'disgust'\n",
      " 'angry' 'calm' 'angry' 'fearful' 'angry' 'angry' 'happy' 'angry'\n",
      " 'fearful' 'disgust' 'happy' 'disgust' 'angry' 'angry' 'disgust' 'happy'\n",
      " 'angry' 'happy' 'calm' 'calm' 'angry' 'calm' 'disgust' 'disgust'\n",
      " 'disgust' 'angry' 'disgust' 'fearful' 'angry' 'calm' 'happy' 'calm'\n",
      " 'fearful' 'disgust' 'fearful' 'fearful' 'calm' 'angry' 'disgust' 'happy'\n",
      " 'happy' 'calm' 'fearful' 'angry' 'fearful' 'calm' 'calm' 'fearful'\n",
      " 'fearful' 'calm' 'fearful' 'angry' 'disgust' 'angry' 'fearful' 'angry'\n",
      " 'happy' 'disgust' 'disgust' 'fearful' 'calm' 'fearful' 'disgust' 'happy'\n",
      " 'disgust' 'happy' 'disgust' 'angry' 'angry' 'fearful' 'calm' 'calm'\n",
      " 'calm' 'disgust' 'calm' 'fearful' 'happy' 'angry' 'happy' 'angry' 'angry'\n",
      " 'angry' 'calm' 'happy' 'disgust' 'angry' 'disgust' 'calm' 'calm' 'calm'\n",
      " 'calm' 'disgust' 'calm' 'calm' 'calm' 'angry' 'disgust' 'happy' 'angry'\n",
      " 'calm' 'disgust' 'happy' 'disgust' 'disgust' 'fearful' 'disgust' 'happy'\n",
      " 'angry' 'calm' 'calm' 'disgust' 'calm' 'calm' 'fearful' 'angry' 'calm'\n",
      " 'calm' 'happy' 'happy' 'calm' 'fearful' 'calm' 'fearful' 'happy' 'calm'\n",
      " 'disgust' 'happy' 'calm' 'fearful' 'happy' 'happy' 'angry' 'calm' 'angry'\n",
      " 'fearful' 'angry' 'happy' 'happy' 'fearful' 'calm' 'fearful' 'calm'\n",
      " 'calm' 'disgust' 'calm' 'angry' 'fearful' 'angry' 'disgust' 'calm'\n",
      " 'happy' 'angry' 'happy' 'happy' 'fearful' 'disgust' 'disgust' 'happy'\n",
      " 'calm' 'calm' 'angry' 'disgust' 'disgust' 'happy' 'angry' 'calm' 'calm'\n",
      " 'disgust' 'fearful' 'disgust' 'calm' 'disgust' 'happy' 'calm' 'fearful'\n",
      " 'disgust' 'calm' 'angry' 'fearful' 'disgust' 'disgust' 'disgust' 'angry'\n",
      " 'disgust' 'disgust' 'fearful' 'angry' 'angry' 'fearful' 'calm' 'fearful'\n",
      " 'happy' 'happy' 'happy' 'fearful' 'happy' 'fearful' 'calm' 'disgust'\n",
      " 'disgust' 'angry' 'fearful' 'happy' 'angry' 'happy' 'calm' 'happy'\n",
      " 'disgust' 'fearful' 'calm' 'disgust' 'happy' 'disgust' 'disgust' 'angry'\n",
      " 'happy' 'fearful' 'fearful' 'angry' 'fearful' 'disgust' 'calm' 'calm'\n",
      " 'calm' 'fearful']\n"
     ]
    }
   ],
   "source": [
    "# DataFlair - Predict for the test set\n",
    "y_pred = model.predict(x_test)\n",
    "print(x_test)\n",
    "print(y_pred)"
   ]
  },
  {
   "cell_type": "code",
   "execution_count": 85,
   "metadata": {},
   "outputs": [
    {
     "name": "stdout",
     "output_type": "stream",
     "text": [
      "Accuracy: 54.17%\n"
     ]
    }
   ],
   "source": [
    "# DataFlair - Calculate the accuracy of our model\n",
    "accuracy = accuracy_score(y_true=y_test, y_pred=y_pred)\n",
    "\n",
    "# DataFlair - Print the accuracy\n",
    "print(\"Accuracy: {:.2f}%\".format(accuracy*100))"
   ]
  },
  {
   "cell_type": "code",
   "execution_count": null,
   "metadata": {},
   "outputs": [],
   "source": []
  }
 ],
 "metadata": {
  "kernelspec": {
   "display_name": "Python 3",
   "language": "python",
   "name": "python3"
  },
  "language_info": {
   "codemirror_mode": {
    "name": "ipython",
    "version": 3
   },
   "file_extension": ".py",
   "mimetype": "text/x-python",
   "name": "python",
   "nbconvert_exporter": "python",
   "pygments_lexer": "ipython3",
   "version": "3.6.9"
  }
 },
 "nbformat": 4,
 "nbformat_minor": 4
}
